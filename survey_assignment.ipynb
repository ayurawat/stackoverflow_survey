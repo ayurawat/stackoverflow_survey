{
 "cells": [
  {
   "cell_type": "code",
   "execution_count": 135,
   "id": "6b970fee",
   "metadata": {},
   "outputs": [],
   "source": [
    "# Importing libraries\n",
    "import pandas as pd\n",
    "import matplotlib.pyplot as plt\n",
    "import seaborn as sns\n",
    "import numpy as np"
   ]
  },
  {
   "cell_type": "code",
   "execution_count": 3,
   "id": "a82e5fbf",
   "metadata": {},
   "outputs": [],
   "source": [
    "#importing dataset\n",
    "df=pd.read_csv(r'C:\\Users\\user\\Downloads\\survey_results_public (2).csv')"
   ]
  },
  {
   "cell_type": "code",
   "execution_count": 4,
   "id": "3157cd3e",
   "metadata": {},
   "outputs": [
    {
     "data": {
      "text/html": [
       "<div>\n",
       "<style scoped>\n",
       "    .dataframe tbody tr th:only-of-type {\n",
       "        vertical-align: middle;\n",
       "    }\n",
       "\n",
       "    .dataframe tbody tr th {\n",
       "        vertical-align: top;\n",
       "    }\n",
       "\n",
       "    .dataframe thead th {\n",
       "        text-align: right;\n",
       "    }\n",
       "</style>\n",
       "<table border=\"1\" class=\"dataframe\">\n",
       "  <thead>\n",
       "    <tr style=\"text-align: right;\">\n",
       "      <th></th>\n",
       "      <th>Respondent</th>\n",
       "      <th>MainBranch</th>\n",
       "      <th>Hobbyist</th>\n",
       "      <th>Age</th>\n",
       "      <th>Age1stCode</th>\n",
       "      <th>CompFreq</th>\n",
       "      <th>CompTotal</th>\n",
       "      <th>ConvertedComp</th>\n",
       "      <th>Country</th>\n",
       "      <th>CurrencyDesc</th>\n",
       "      <th>...</th>\n",
       "      <th>SurveyEase</th>\n",
       "      <th>SurveyLength</th>\n",
       "      <th>Trans</th>\n",
       "      <th>UndergradMajor</th>\n",
       "      <th>WebframeDesireNextYear</th>\n",
       "      <th>WebframeWorkedWith</th>\n",
       "      <th>WelcomeChange</th>\n",
       "      <th>WorkWeekHrs</th>\n",
       "      <th>YearsCode</th>\n",
       "      <th>YearsCodePro</th>\n",
       "    </tr>\n",
       "  </thead>\n",
       "  <tbody>\n",
       "    <tr>\n",
       "      <th>0</th>\n",
       "      <td>1</td>\n",
       "      <td>I am a developer by profession</td>\n",
       "      <td>Yes</td>\n",
       "      <td>NaN</td>\n",
       "      <td>13</td>\n",
       "      <td>Monthly</td>\n",
       "      <td>NaN</td>\n",
       "      <td>NaN</td>\n",
       "      <td>Germany</td>\n",
       "      <td>European Euro</td>\n",
       "      <td>...</td>\n",
       "      <td>Neither easy nor difficult</td>\n",
       "      <td>Appropriate in length</td>\n",
       "      <td>No</td>\n",
       "      <td>Computer science, computer engineering, or sof...</td>\n",
       "      <td>ASP.NET Core</td>\n",
       "      <td>ASP.NET;ASP.NET Core</td>\n",
       "      <td>Just as welcome now as I felt last year</td>\n",
       "      <td>50.0</td>\n",
       "      <td>36</td>\n",
       "      <td>27</td>\n",
       "    </tr>\n",
       "    <tr>\n",
       "      <th>1</th>\n",
       "      <td>2</td>\n",
       "      <td>I am a developer by profession</td>\n",
       "      <td>No</td>\n",
       "      <td>NaN</td>\n",
       "      <td>19</td>\n",
       "      <td>NaN</td>\n",
       "      <td>NaN</td>\n",
       "      <td>NaN</td>\n",
       "      <td>United Kingdom</td>\n",
       "      <td>Pound sterling</td>\n",
       "      <td>...</td>\n",
       "      <td>NaN</td>\n",
       "      <td>NaN</td>\n",
       "      <td>NaN</td>\n",
       "      <td>Computer science, computer engineering, or sof...</td>\n",
       "      <td>NaN</td>\n",
       "      <td>NaN</td>\n",
       "      <td>Somewhat more welcome now than last year</td>\n",
       "      <td>NaN</td>\n",
       "      <td>7</td>\n",
       "      <td>4</td>\n",
       "    </tr>\n",
       "    <tr>\n",
       "      <th>2</th>\n",
       "      <td>3</td>\n",
       "      <td>I code primarily as a hobby</td>\n",
       "      <td>Yes</td>\n",
       "      <td>NaN</td>\n",
       "      <td>15</td>\n",
       "      <td>NaN</td>\n",
       "      <td>NaN</td>\n",
       "      <td>NaN</td>\n",
       "      <td>Russian Federation</td>\n",
       "      <td>NaN</td>\n",
       "      <td>...</td>\n",
       "      <td>Neither easy nor difficult</td>\n",
       "      <td>Appropriate in length</td>\n",
       "      <td>NaN</td>\n",
       "      <td>NaN</td>\n",
       "      <td>NaN</td>\n",
       "      <td>NaN</td>\n",
       "      <td>Somewhat more welcome now than last year</td>\n",
       "      <td>NaN</td>\n",
       "      <td>4</td>\n",
       "      <td>NaN</td>\n",
       "    </tr>\n",
       "    <tr>\n",
       "      <th>3</th>\n",
       "      <td>4</td>\n",
       "      <td>I am a developer by profession</td>\n",
       "      <td>Yes</td>\n",
       "      <td>25.0</td>\n",
       "      <td>18</td>\n",
       "      <td>NaN</td>\n",
       "      <td>NaN</td>\n",
       "      <td>NaN</td>\n",
       "      <td>Albania</td>\n",
       "      <td>Albanian lek</td>\n",
       "      <td>...</td>\n",
       "      <td>NaN</td>\n",
       "      <td>NaN</td>\n",
       "      <td>No</td>\n",
       "      <td>Computer science, computer engineering, or sof...</td>\n",
       "      <td>NaN</td>\n",
       "      <td>NaN</td>\n",
       "      <td>Somewhat less welcome now than last year</td>\n",
       "      <td>40.0</td>\n",
       "      <td>7</td>\n",
       "      <td>4</td>\n",
       "    </tr>\n",
       "    <tr>\n",
       "      <th>4</th>\n",
       "      <td>5</td>\n",
       "      <td>I used to be a developer by profession, but no...</td>\n",
       "      <td>Yes</td>\n",
       "      <td>31.0</td>\n",
       "      <td>16</td>\n",
       "      <td>NaN</td>\n",
       "      <td>NaN</td>\n",
       "      <td>NaN</td>\n",
       "      <td>United States</td>\n",
       "      <td>NaN</td>\n",
       "      <td>...</td>\n",
       "      <td>Easy</td>\n",
       "      <td>Too short</td>\n",
       "      <td>No</td>\n",
       "      <td>Computer science, computer engineering, or sof...</td>\n",
       "      <td>Django;Ruby on Rails</td>\n",
       "      <td>Ruby on Rails</td>\n",
       "      <td>Just as welcome now as I felt last year</td>\n",
       "      <td>NaN</td>\n",
       "      <td>15</td>\n",
       "      <td>8</td>\n",
       "    </tr>\n",
       "  </tbody>\n",
       "</table>\n",
       "<p>5 rows × 61 columns</p>\n",
       "</div>"
      ],
      "text/plain": [
       "   Respondent                                         MainBranch Hobbyist  \\\n",
       "0           1                     I am a developer by profession      Yes   \n",
       "1           2                     I am a developer by profession       No   \n",
       "2           3                        I code primarily as a hobby      Yes   \n",
       "3           4                     I am a developer by profession      Yes   \n",
       "4           5  I used to be a developer by profession, but no...      Yes   \n",
       "\n",
       "    Age Age1stCode CompFreq  CompTotal  ConvertedComp             Country  \\\n",
       "0   NaN         13  Monthly        NaN            NaN             Germany   \n",
       "1   NaN         19      NaN        NaN            NaN      United Kingdom   \n",
       "2   NaN         15      NaN        NaN            NaN  Russian Federation   \n",
       "3  25.0         18      NaN        NaN            NaN             Albania   \n",
       "4  31.0         16      NaN        NaN            NaN       United States   \n",
       "\n",
       "     CurrencyDesc  ...                  SurveyEase           SurveyLength  \\\n",
       "0   European Euro  ...  Neither easy nor difficult  Appropriate in length   \n",
       "1  Pound sterling  ...                         NaN                    NaN   \n",
       "2             NaN  ...  Neither easy nor difficult  Appropriate in length   \n",
       "3    Albanian lek  ...                         NaN                    NaN   \n",
       "4             NaN  ...                        Easy              Too short   \n",
       "\n",
       "  Trans                                     UndergradMajor  \\\n",
       "0    No  Computer science, computer engineering, or sof...   \n",
       "1   NaN  Computer science, computer engineering, or sof...   \n",
       "2   NaN                                                NaN   \n",
       "3    No  Computer science, computer engineering, or sof...   \n",
       "4    No  Computer science, computer engineering, or sof...   \n",
       "\n",
       "  WebframeDesireNextYear    WebframeWorkedWith  \\\n",
       "0           ASP.NET Core  ASP.NET;ASP.NET Core   \n",
       "1                    NaN                   NaN   \n",
       "2                    NaN                   NaN   \n",
       "3                    NaN                   NaN   \n",
       "4   Django;Ruby on Rails         Ruby on Rails   \n",
       "\n",
       "                              WelcomeChange WorkWeekHrs YearsCode YearsCodePro  \n",
       "0   Just as welcome now as I felt last year        50.0        36           27  \n",
       "1  Somewhat more welcome now than last year         NaN         7            4  \n",
       "2  Somewhat more welcome now than last year         NaN         4          NaN  \n",
       "3  Somewhat less welcome now than last year        40.0         7            4  \n",
       "4   Just as welcome now as I felt last year         NaN        15            8  \n",
       "\n",
       "[5 rows x 61 columns]"
      ]
     },
     "execution_count": 4,
     "metadata": {},
     "output_type": "execute_result"
    }
   ],
   "source": [
    "# viewing data set\n",
    "df.head()"
   ]
  },
  {
   "cell_type": "markdown",
   "id": "1b83448f",
   "metadata": {},
   "source": [
    "# data wrangling"
   ]
  },
  {
   "cell_type": "code",
   "execution_count": 29,
   "id": "6b1b82d1",
   "metadata": {},
   "outputs": [
    {
     "data": {
      "text/html": [
       "<div>\n",
       "<style scoped>\n",
       "    .dataframe tbody tr th:only-of-type {\n",
       "        vertical-align: middle;\n",
       "    }\n",
       "\n",
       "    .dataframe tbody tr th {\n",
       "        vertical-align: top;\n",
       "    }\n",
       "\n",
       "    .dataframe thead th {\n",
       "        text-align: right;\n",
       "    }\n",
       "</style>\n",
       "<table border=\"1\" class=\"dataframe\">\n",
       "  <thead>\n",
       "    <tr style=\"text-align: right;\">\n",
       "      <th></th>\n",
       "      <th>Respondent</th>\n",
       "      <th>MainBranch</th>\n",
       "      <th>Hobbyist</th>\n",
       "      <th>Age</th>\n",
       "      <th>Age1stCode</th>\n",
       "      <th>CompFreq</th>\n",
       "      <th>CompTotal</th>\n",
       "      <th>ConvertedComp</th>\n",
       "      <th>Country</th>\n",
       "      <th>CurrencyDesc</th>\n",
       "      <th>...</th>\n",
       "      <th>SurveyEase</th>\n",
       "      <th>SurveyLength</th>\n",
       "      <th>Trans</th>\n",
       "      <th>UndergradMajor</th>\n",
       "      <th>WebframeDesireNextYear</th>\n",
       "      <th>WebframeWorkedWith</th>\n",
       "      <th>WelcomeChange</th>\n",
       "      <th>WorkWeekHrs</th>\n",
       "      <th>YearsCode</th>\n",
       "      <th>YearsCodePro</th>\n",
       "    </tr>\n",
       "  </thead>\n",
       "  <tbody>\n",
       "    <tr>\n",
       "      <th>26913</th>\n",
       "      <td>27012</td>\n",
       "      <td>I am a developer by profession</td>\n",
       "      <td>Yes</td>\n",
       "      <td>NaN</td>\n",
       "      <td>6</td>\n",
       "      <td>Yearly</td>\n",
       "      <td>250000.0</td>\n",
       "      <td>3490.0</td>\n",
       "      <td>India</td>\n",
       "      <td>Indian rupee</td>\n",
       "      <td>...</td>\n",
       "      <td>Easy</td>\n",
       "      <td>Appropriate in length</td>\n",
       "      <td>No</td>\n",
       "      <td>Web development or web design</td>\n",
       "      <td>Angular;Django;Gatsby;React.js;Vue.js</td>\n",
       "      <td>Angular;Angular.js;Express;jQuery;React.js</td>\n",
       "      <td>A lot more welcome now than last year</td>\n",
       "      <td>85.0</td>\n",
       "      <td>6</td>\n",
       "      <td>2</td>\n",
       "    </tr>\n",
       "    <tr>\n",
       "      <th>24883</th>\n",
       "      <td>24976</td>\n",
       "      <td>I am a developer by profession</td>\n",
       "      <td>Yes</td>\n",
       "      <td>20.0</td>\n",
       "      <td>12</td>\n",
       "      <td>Monthly</td>\n",
       "      <td>4700.0</td>\n",
       "      <td>12924.0</td>\n",
       "      <td>Brazil</td>\n",
       "      <td>Brazilian real</td>\n",
       "      <td>...</td>\n",
       "      <td>Easy</td>\n",
       "      <td>Appropriate in length</td>\n",
       "      <td>No</td>\n",
       "      <td>Information systems, information technology, o...</td>\n",
       "      <td>Ruby on Rails;Vue.js</td>\n",
       "      <td>jQuery;React.js;Ruby on Rails;Vue.js</td>\n",
       "      <td>Somewhat more welcome now than last year</td>\n",
       "      <td>40.0</td>\n",
       "      <td>8</td>\n",
       "      <td>5</td>\n",
       "    </tr>\n",
       "    <tr>\n",
       "      <th>49521</th>\n",
       "      <td>50545</td>\n",
       "      <td>I am a developer by profession</td>\n",
       "      <td>No</td>\n",
       "      <td>27.0</td>\n",
       "      <td>14</td>\n",
       "      <td>NaN</td>\n",
       "      <td>NaN</td>\n",
       "      <td>NaN</td>\n",
       "      <td>Iran</td>\n",
       "      <td>Iranian rial</td>\n",
       "      <td>...</td>\n",
       "      <td>Neither easy nor difficult</td>\n",
       "      <td>Too long</td>\n",
       "      <td>No</td>\n",
       "      <td>Another engineering discipline (such as civil,...</td>\n",
       "      <td>NaN</td>\n",
       "      <td>NaN</td>\n",
       "      <td>Just as welcome now as I felt last year</td>\n",
       "      <td>60.0</td>\n",
       "      <td>12</td>\n",
       "      <td>1</td>\n",
       "    </tr>\n",
       "  </tbody>\n",
       "</table>\n",
       "<p>3 rows × 61 columns</p>\n",
       "</div>"
      ],
      "text/plain": [
       "       Respondent                      MainBranch Hobbyist   Age Age1stCode  \\\n",
       "26913       27012  I am a developer by profession      Yes   NaN          6   \n",
       "24883       24976  I am a developer by profession      Yes  20.0         12   \n",
       "49521       50545  I am a developer by profession       No  27.0         14   \n",
       "\n",
       "      CompFreq  CompTotal  ConvertedComp Country    CurrencyDesc  ...  \\\n",
       "26913   Yearly   250000.0         3490.0   India    Indian rupee  ...   \n",
       "24883  Monthly     4700.0        12924.0  Brazil  Brazilian real  ...   \n",
       "49521      NaN        NaN            NaN    Iran    Iranian rial  ...   \n",
       "\n",
       "                       SurveyEase           SurveyLength Trans  \\\n",
       "26913                        Easy  Appropriate in length    No   \n",
       "24883                        Easy  Appropriate in length    No   \n",
       "49521  Neither easy nor difficult               Too long    No   \n",
       "\n",
       "                                          UndergradMajor  \\\n",
       "26913                      Web development or web design   \n",
       "24883  Information systems, information technology, o...   \n",
       "49521  Another engineering discipline (such as civil,...   \n",
       "\n",
       "                      WebframeDesireNextYear  \\\n",
       "26913  Angular;Django;Gatsby;React.js;Vue.js   \n",
       "24883                   Ruby on Rails;Vue.js   \n",
       "49521                                    NaN   \n",
       "\n",
       "                               WebframeWorkedWith  \\\n",
       "26913  Angular;Angular.js;Express;jQuery;React.js   \n",
       "24883        jQuery;React.js;Ruby on Rails;Vue.js   \n",
       "49521                                         NaN   \n",
       "\n",
       "                                  WelcomeChange WorkWeekHrs YearsCode  \\\n",
       "26913     A lot more welcome now than last year        85.0         6   \n",
       "24883  Somewhat more welcome now than last year        40.0         8   \n",
       "49521   Just as welcome now as I felt last year        60.0        12   \n",
       "\n",
       "      YearsCodePro  \n",
       "26913            2  \n",
       "24883            5  \n",
       "49521            1  \n",
       "\n",
       "[3 rows x 61 columns]"
      ]
     },
     "execution_count": 29,
     "metadata": {},
     "output_type": "execute_result"
    }
   ],
   "source": [
    "df.sample(3)"
   ]
  },
  {
   "cell_type": "code",
   "execution_count": 6,
   "id": "7ccfefa1",
   "metadata": {},
   "outputs": [
    {
     "name": "stdout",
     "output_type": "stream",
     "text": [
      "<class 'pandas.core.frame.DataFrame'>\n",
      "RangeIndex: 64461 entries, 0 to 64460\n",
      "Data columns (total 61 columns):\n",
      " #   Column                        Non-Null Count  Dtype  \n",
      "---  ------                        --------------  -----  \n",
      " 0   Respondent                    64461 non-null  int64  \n",
      " 1   MainBranch                    64162 non-null  object \n",
      " 2   Hobbyist                      64416 non-null  object \n",
      " 3   Age                           45446 non-null  float64\n",
      " 4   Age1stCode                    57900 non-null  object \n",
      " 5   CompFreq                      40069 non-null  object \n",
      " 6   CompTotal                     34826 non-null  float64\n",
      " 7   ConvertedComp                 34756 non-null  float64\n",
      " 8   Country                       64072 non-null  object \n",
      " 9   CurrencyDesc                  45472 non-null  object \n",
      " 10  CurrencySymbol                45472 non-null  object \n",
      " 11  DatabaseDesireNextYear        44070 non-null  object \n",
      " 12  DatabaseWorkedWith            49537 non-null  object \n",
      " 13  DevType                       49370 non-null  object \n",
      " 14  EdLevel                       57431 non-null  object \n",
      " 15  Employment                    63854 non-null  object \n",
      " 16  Ethnicity                     45948 non-null  object \n",
      " 17  Gender                        50557 non-null  object \n",
      " 18  JobFactors                    49349 non-null  object \n",
      " 19  JobSat                        45194 non-null  object \n",
      " 20  JobSeek                       51727 non-null  object \n",
      " 21  LanguageDesireNextYear        54113 non-null  object \n",
      " 22  LanguageWorkedWith            57378 non-null  object \n",
      " 23  MiscTechDesireNextYear        42379 non-null  object \n",
      " 24  MiscTechWorkedWith            40314 non-null  object \n",
      " 25  NEWCollabToolsDesireNextYear  47287 non-null  object \n",
      " 26  NEWCollabToolsWorkedWith      52883 non-null  object \n",
      " 27  NEWDevOps                     42686 non-null  object \n",
      " 28  NEWDevOpsImpt                 41732 non-null  object \n",
      " 29  NEWEdImpt                     48465 non-null  object \n",
      " 30  NEWJobHunt                    42286 non-null  object \n",
      " 31  NEWJobHuntResearch            41022 non-null  object \n",
      " 32  NEWLearn                      56156 non-null  object \n",
      " 33  NEWOffTopic                   50804 non-null  object \n",
      " 34  NEWOnboardGood                42623 non-null  object \n",
      " 35  NEWOtherComms                 57205 non-null  object \n",
      " 36  NEWOvertime                   43231 non-null  object \n",
      " 37  NEWPurchaseResearch           37321 non-null  object \n",
      " 38  NEWPurpleLink                 54803 non-null  object \n",
      " 39  NEWSOSites                    58275 non-null  object \n",
      " 40  NEWStuck                      54983 non-null  object \n",
      " 41  OpSys                         56228 non-null  object \n",
      " 42  OrgSize                       44334 non-null  object \n",
      " 43  PlatformDesireNextYear        50605 non-null  object \n",
      " 44  PlatformWorkedWith            53843 non-null  object \n",
      " 45  PurchaseWhat                  39364 non-null  object \n",
      " 46  Sexuality                     43992 non-null  object \n",
      " 47  SOAccount                     56805 non-null  object \n",
      " 48  SOComm                        56476 non-null  object \n",
      " 49  SOPartFreq                    46792 non-null  object \n",
      " 50  SOVisitFreq                   56970 non-null  object \n",
      " 51  SurveyEase                    51802 non-null  object \n",
      " 52  SurveyLength                  51701 non-null  object \n",
      " 53  Trans                         49345 non-null  object \n",
      " 54  UndergradMajor                50995 non-null  object \n",
      " 55  WebframeDesireNextYear        40024 non-null  object \n",
      " 56  WebframeWorkedWith            42279 non-null  object \n",
      " 57  WelcomeChange                 52683 non-null  object \n",
      " 58  WorkWeekHrs                   41151 non-null  float64\n",
      " 59  YearsCode                     57684 non-null  object \n",
      " 60  YearsCodePro                  46349 non-null  object \n",
      "dtypes: float64(4), int64(1), object(56)\n",
      "memory usage: 30.0+ MB\n"
     ]
    }
   ],
   "source": [
    "df.info()"
   ]
  },
  {
   "cell_type": "code",
   "execution_count": 7,
   "id": "e8afc9ff",
   "metadata": {},
   "outputs": [
    {
     "data": {
      "text/plain": [
       "(64461, 61)"
      ]
     },
     "execution_count": 7,
     "metadata": {},
     "output_type": "execute_result"
    }
   ],
   "source": [
    "df.shape"
   ]
  },
  {
   "cell_type": "code",
   "execution_count": 8,
   "id": "b69d1201",
   "metadata": {},
   "outputs": [
    {
     "data": {
      "text/html": [
       "<div>\n",
       "<style scoped>\n",
       "    .dataframe tbody tr th:only-of-type {\n",
       "        vertical-align: middle;\n",
       "    }\n",
       "\n",
       "    .dataframe tbody tr th {\n",
       "        vertical-align: top;\n",
       "    }\n",
       "\n",
       "    .dataframe thead th {\n",
       "        text-align: right;\n",
       "    }\n",
       "</style>\n",
       "<table border=\"1\" class=\"dataframe\">\n",
       "  <thead>\n",
       "    <tr style=\"text-align: right;\">\n",
       "      <th></th>\n",
       "      <th>Respondent</th>\n",
       "      <th>Age</th>\n",
       "      <th>CompTotal</th>\n",
       "      <th>ConvertedComp</th>\n",
       "      <th>WorkWeekHrs</th>\n",
       "    </tr>\n",
       "  </thead>\n",
       "  <tbody>\n",
       "    <tr>\n",
       "      <th>count</th>\n",
       "      <td>64461.000000</td>\n",
       "      <td>45446.000000</td>\n",
       "      <td>3.482600e+04</td>\n",
       "      <td>3.475600e+04</td>\n",
       "      <td>41151.000000</td>\n",
       "    </tr>\n",
       "    <tr>\n",
       "      <th>mean</th>\n",
       "      <td>32554.079738</td>\n",
       "      <td>30.834111</td>\n",
       "      <td>3.190464e+242</td>\n",
       "      <td>1.037561e+05</td>\n",
       "      <td>40.782174</td>\n",
       "    </tr>\n",
       "    <tr>\n",
       "      <th>std</th>\n",
       "      <td>18967.442360</td>\n",
       "      <td>9.585392</td>\n",
       "      <td>inf</td>\n",
       "      <td>2.268853e+05</td>\n",
       "      <td>17.816383</td>\n",
       "    </tr>\n",
       "    <tr>\n",
       "      <th>min</th>\n",
       "      <td>1.000000</td>\n",
       "      <td>1.000000</td>\n",
       "      <td>0.000000e+00</td>\n",
       "      <td>0.000000e+00</td>\n",
       "      <td>1.000000</td>\n",
       "    </tr>\n",
       "    <tr>\n",
       "      <th>25%</th>\n",
       "      <td>16116.000000</td>\n",
       "      <td>24.000000</td>\n",
       "      <td>2.000000e+04</td>\n",
       "      <td>2.464800e+04</td>\n",
       "      <td>40.000000</td>\n",
       "    </tr>\n",
       "    <tr>\n",
       "      <th>50%</th>\n",
       "      <td>32231.000000</td>\n",
       "      <td>29.000000</td>\n",
       "      <td>6.300000e+04</td>\n",
       "      <td>5.404900e+04</td>\n",
       "      <td>40.000000</td>\n",
       "    </tr>\n",
       "    <tr>\n",
       "      <th>75%</th>\n",
       "      <td>49142.000000</td>\n",
       "      <td>35.000000</td>\n",
       "      <td>1.250000e+05</td>\n",
       "      <td>9.500000e+04</td>\n",
       "      <td>44.000000</td>\n",
       "    </tr>\n",
       "    <tr>\n",
       "      <th>max</th>\n",
       "      <td>65639.000000</td>\n",
       "      <td>279.000000</td>\n",
       "      <td>1.111111e+247</td>\n",
       "      <td>2.000000e+06</td>\n",
       "      <td>475.000000</td>\n",
       "    </tr>\n",
       "  </tbody>\n",
       "</table>\n",
       "</div>"
      ],
      "text/plain": [
       "         Respondent           Age      CompTotal  ConvertedComp   WorkWeekHrs\n",
       "count  64461.000000  45446.000000   3.482600e+04   3.475600e+04  41151.000000\n",
       "mean   32554.079738     30.834111  3.190464e+242   1.037561e+05     40.782174\n",
       "std    18967.442360      9.585392            inf   2.268853e+05     17.816383\n",
       "min        1.000000      1.000000   0.000000e+00   0.000000e+00      1.000000\n",
       "25%    16116.000000     24.000000   2.000000e+04   2.464800e+04     40.000000\n",
       "50%    32231.000000     29.000000   6.300000e+04   5.404900e+04     40.000000\n",
       "75%    49142.000000     35.000000   1.250000e+05   9.500000e+04     44.000000\n",
       "max    65639.000000    279.000000  1.111111e+247   2.000000e+06    475.000000"
      ]
     },
     "execution_count": 8,
     "metadata": {},
     "output_type": "execute_result"
    }
   ],
   "source": [
    "df.describe()"
   ]
  },
  {
   "cell_type": "raw",
   "id": "a70f04f6",
   "metadata": {},
   "source": [
    "# we can see that the \"Age\" and \"WorkWeekHrs\" columns need to be fixed,as maximum age observed is 279 (years) and the maximum number of hours spent on programming work per week is 475, which is  unlikely for any human being. Likewise, it is impossible for a person to work for more than 168(i.e. 24*7) hours per week, if they work continuously without sleep. We therefore drop all the rows containing ages greater than 60 (years) and those containing work week hours greater than 105 (i.e. 15*7)for the purpose of our analysis below:-"
   ]
  },
  {
   "cell_type": "code",
   "execution_count": 9,
   "id": "659ca27d",
   "metadata": {
    "scrolled": true
   },
   "outputs": [
    {
     "data": {
      "text/html": [
       "<div>\n",
       "<style scoped>\n",
       "    .dataframe tbody tr th:only-of-type {\n",
       "        vertical-align: middle;\n",
       "    }\n",
       "\n",
       "    .dataframe tbody tr th {\n",
       "        vertical-align: top;\n",
       "    }\n",
       "\n",
       "    .dataframe thead th {\n",
       "        text-align: right;\n",
       "    }\n",
       "</style>\n",
       "<table border=\"1\" class=\"dataframe\">\n",
       "  <thead>\n",
       "    <tr style=\"text-align: right;\">\n",
       "      <th></th>\n",
       "      <th>Respondent</th>\n",
       "      <th>MainBranch</th>\n",
       "      <th>Hobbyist</th>\n",
       "      <th>Age</th>\n",
       "      <th>Age1stCode</th>\n",
       "      <th>CompFreq</th>\n",
       "      <th>CompTotal</th>\n",
       "      <th>ConvertedComp</th>\n",
       "      <th>Country</th>\n",
       "      <th>CurrencyDesc</th>\n",
       "      <th>...</th>\n",
       "      <th>SurveyEase</th>\n",
       "      <th>SurveyLength</th>\n",
       "      <th>Trans</th>\n",
       "      <th>UndergradMajor</th>\n",
       "      <th>WebframeDesireNextYear</th>\n",
       "      <th>WebframeWorkedWith</th>\n",
       "      <th>WelcomeChange</th>\n",
       "      <th>WorkWeekHrs</th>\n",
       "      <th>YearsCode</th>\n",
       "      <th>YearsCodePro</th>\n",
       "    </tr>\n",
       "  </thead>\n",
       "  <tbody>\n",
       "    <tr>\n",
       "      <th>15937</th>\n",
       "      <td>15992</td>\n",
       "      <td>I am a developer by profession</td>\n",
       "      <td>Yes</td>\n",
       "      <td>27.0</td>\n",
       "      <td>17</td>\n",
       "      <td>NaN</td>\n",
       "      <td>NaN</td>\n",
       "      <td>NaN</td>\n",
       "      <td>United Kingdom</td>\n",
       "      <td>Pound sterling</td>\n",
       "      <td>...</td>\n",
       "      <td>Easy</td>\n",
       "      <td>Appropriate in length</td>\n",
       "      <td>No</td>\n",
       "      <td>Fine arts or performing arts (such as graphic ...</td>\n",
       "      <td>ASP.NET</td>\n",
       "      <td>ASP.NET;jQuery</td>\n",
       "      <td>Somewhat more welcome now than last year</td>\n",
       "      <td>7.5</td>\n",
       "      <td>10</td>\n",
       "      <td>8</td>\n",
       "    </tr>\n",
       "    <tr>\n",
       "      <th>3682</th>\n",
       "      <td>3697</td>\n",
       "      <td>I am a developer by profession</td>\n",
       "      <td>Yes</td>\n",
       "      <td>51.0</td>\n",
       "      <td>13</td>\n",
       "      <td>Yearly</td>\n",
       "      <td>140000.0</td>\n",
       "      <td>140000.0</td>\n",
       "      <td>United States</td>\n",
       "      <td>United States dollar</td>\n",
       "      <td>...</td>\n",
       "      <td>Easy</td>\n",
       "      <td>Appropriate in length</td>\n",
       "      <td>No</td>\n",
       "      <td>Computer science, computer engineering, or sof...</td>\n",
       "      <td>Ruby on Rails;Vue.js</td>\n",
       "      <td>jQuery;React.js;Ruby on Rails</td>\n",
       "      <td>Just as welcome now as I felt last year</td>\n",
       "      <td>40.0</td>\n",
       "      <td>42</td>\n",
       "      <td>32</td>\n",
       "    </tr>\n",
       "    <tr>\n",
       "      <th>2225</th>\n",
       "      <td>2234</td>\n",
       "      <td>I am a developer by profession</td>\n",
       "      <td>Yes</td>\n",
       "      <td>49.0</td>\n",
       "      <td>13</td>\n",
       "      <td>Yearly</td>\n",
       "      <td>1000000.0</td>\n",
       "      <td>144730.0</td>\n",
       "      <td>Denmark</td>\n",
       "      <td>Danish krone</td>\n",
       "      <td>...</td>\n",
       "      <td>Easy</td>\n",
       "      <td>Appropriate in length</td>\n",
       "      <td>No</td>\n",
       "      <td>A social science (such as anthropology, psycho...</td>\n",
       "      <td>NaN</td>\n",
       "      <td>ASP.NET Core</td>\n",
       "      <td>Somewhat less welcome now than last year</td>\n",
       "      <td>35.0</td>\n",
       "      <td>27</td>\n",
       "      <td>23</td>\n",
       "    </tr>\n",
       "    <tr>\n",
       "      <th>15228</th>\n",
       "      <td>15279</td>\n",
       "      <td>I used to be a developer by profession, but no...</td>\n",
       "      <td>No</td>\n",
       "      <td>40.0</td>\n",
       "      <td>17</td>\n",
       "      <td>NaN</td>\n",
       "      <td>NaN</td>\n",
       "      <td>NaN</td>\n",
       "      <td>United States</td>\n",
       "      <td>NaN</td>\n",
       "      <td>...</td>\n",
       "      <td>Easy</td>\n",
       "      <td>Appropriate in length</td>\n",
       "      <td>No</td>\n",
       "      <td>Computer science, computer engineering, or sof...</td>\n",
       "      <td>jQuery;React.js;Spring;Vue.js</td>\n",
       "      <td>jQuery;Spring</td>\n",
       "      <td>Just as welcome now as I felt last year</td>\n",
       "      <td>NaN</td>\n",
       "      <td>23</td>\n",
       "      <td>16</td>\n",
       "    </tr>\n",
       "    <tr>\n",
       "      <th>5036</th>\n",
       "      <td>5055</td>\n",
       "      <td>I am a developer by profession</td>\n",
       "      <td>No</td>\n",
       "      <td>34.0</td>\n",
       "      <td>13</td>\n",
       "      <td>Yearly</td>\n",
       "      <td>85000.0</td>\n",
       "      <td>85000.0</td>\n",
       "      <td>United States</td>\n",
       "      <td>United States dollar</td>\n",
       "      <td>...</td>\n",
       "      <td>Neither easy nor difficult</td>\n",
       "      <td>Too short</td>\n",
       "      <td>No</td>\n",
       "      <td>Computer science, computer engineering, or sof...</td>\n",
       "      <td>ASP.NET;ASP.NET Core</td>\n",
       "      <td>ASP.NET;ASP.NET Core</td>\n",
       "      <td>Just as welcome now as I felt last year</td>\n",
       "      <td>40.0</td>\n",
       "      <td>22</td>\n",
       "      <td>12</td>\n",
       "    </tr>\n",
       "  </tbody>\n",
       "</table>\n",
       "<p>5 rows × 61 columns</p>\n",
       "</div>"
      ],
      "text/plain": [
       "       Respondent                                         MainBranch Hobbyist  \\\n",
       "15937       15992                     I am a developer by profession      Yes   \n",
       "3682         3697                     I am a developer by profession      Yes   \n",
       "2225         2234                     I am a developer by profession      Yes   \n",
       "15228       15279  I used to be a developer by profession, but no...       No   \n",
       "5036         5055                     I am a developer by profession       No   \n",
       "\n",
       "        Age Age1stCode CompFreq  CompTotal  ConvertedComp         Country  \\\n",
       "15937  27.0         17      NaN        NaN            NaN  United Kingdom   \n",
       "3682   51.0         13   Yearly   140000.0       140000.0   United States   \n",
       "2225   49.0         13   Yearly  1000000.0       144730.0         Denmark   \n",
       "15228  40.0         17      NaN        NaN            NaN   United States   \n",
       "5036   34.0         13   Yearly    85000.0        85000.0   United States   \n",
       "\n",
       "               CurrencyDesc  ...                  SurveyEase  \\\n",
       "15937        Pound sterling  ...                        Easy   \n",
       "3682   United States dollar  ...                        Easy   \n",
       "2225           Danish krone  ...                        Easy   \n",
       "15228                   NaN  ...                        Easy   \n",
       "5036   United States dollar  ...  Neither easy nor difficult   \n",
       "\n",
       "                SurveyLength Trans  \\\n",
       "15937  Appropriate in length    No   \n",
       "3682   Appropriate in length    No   \n",
       "2225   Appropriate in length    No   \n",
       "15228  Appropriate in length    No   \n",
       "5036               Too short    No   \n",
       "\n",
       "                                          UndergradMajor  \\\n",
       "15937  Fine arts or performing arts (such as graphic ...   \n",
       "3682   Computer science, computer engineering, or sof...   \n",
       "2225   A social science (such as anthropology, psycho...   \n",
       "15228  Computer science, computer engineering, or sof...   \n",
       "5036   Computer science, computer engineering, or sof...   \n",
       "\n",
       "              WebframeDesireNextYear             WebframeWorkedWith  \\\n",
       "15937                        ASP.NET                 ASP.NET;jQuery   \n",
       "3682            Ruby on Rails;Vue.js  jQuery;React.js;Ruby on Rails   \n",
       "2225                             NaN                   ASP.NET Core   \n",
       "15228  jQuery;React.js;Spring;Vue.js                  jQuery;Spring   \n",
       "5036            ASP.NET;ASP.NET Core           ASP.NET;ASP.NET Core   \n",
       "\n",
       "                                  WelcomeChange WorkWeekHrs YearsCode  \\\n",
       "15937  Somewhat more welcome now than last year         7.5        10   \n",
       "3682    Just as welcome now as I felt last year        40.0        42   \n",
       "2225   Somewhat less welcome now than last year        35.0        27   \n",
       "15228   Just as welcome now as I felt last year         NaN        23   \n",
       "5036    Just as welcome now as I felt last year        40.0        22   \n",
       "\n",
       "      YearsCodePro  \n",
       "15937            8  \n",
       "3682            32  \n",
       "2225            23  \n",
       "15228           16  \n",
       "5036            12  \n",
       "\n",
       "[5 rows x 61 columns]"
      ]
     },
     "execution_count": 9,
     "metadata": {},
     "output_type": "execute_result"
    }
   ],
   "source": [
    "\n",
    "newdf=pd.DataFrame(df)\n",
    "newdf.drop(newdf[newdf.Age > 60].index,inplace=True)\n",
    "newdf.drop(newdf[newdf.WorkWeekHrs > 105].index,inplace=True)\n",
    "newdf.sample(5)"
   ]
  },
  {
   "cell_type": "code",
   "execution_count": 10,
   "id": "d37de72f",
   "metadata": {},
   "outputs": [
    {
     "data": {
      "text/html": [
       "<div>\n",
       "<style scoped>\n",
       "    .dataframe tbody tr th:only-of-type {\n",
       "        vertical-align: middle;\n",
       "    }\n",
       "\n",
       "    .dataframe tbody tr th {\n",
       "        vertical-align: top;\n",
       "    }\n",
       "\n",
       "    .dataframe thead th {\n",
       "        text-align: right;\n",
       "    }\n",
       "</style>\n",
       "<table border=\"1\" class=\"dataframe\">\n",
       "  <thead>\n",
       "    <tr style=\"text-align: right;\">\n",
       "      <th></th>\n",
       "      <th>Respondent</th>\n",
       "      <th>Age</th>\n",
       "      <th>CompTotal</th>\n",
       "      <th>ConvertedComp</th>\n",
       "      <th>WorkWeekHrs</th>\n",
       "    </tr>\n",
       "  </thead>\n",
       "  <tbody>\n",
       "    <tr>\n",
       "      <th>count</th>\n",
       "      <td>63768.000000</td>\n",
       "      <td>44789.000000</td>\n",
       "      <td>3.443200e+04</td>\n",
       "      <td>3.436600e+04</td>\n",
       "      <td>40674.000000</td>\n",
       "    </tr>\n",
       "    <tr>\n",
       "      <th>mean</th>\n",
       "      <td>32590.010695</td>\n",
       "      <td>30.409342</td>\n",
       "      <td>3.226972e+242</td>\n",
       "      <td>1.033958e+05</td>\n",
       "      <td>39.949089</td>\n",
       "    </tr>\n",
       "    <tr>\n",
       "      <th>std</th>\n",
       "      <td>18960.909599</td>\n",
       "      <td>8.692711</td>\n",
       "      <td>inf</td>\n",
       "      <td>2.265648e+05</td>\n",
       "      <td>10.343277</td>\n",
       "    </tr>\n",
       "    <tr>\n",
       "      <th>min</th>\n",
       "      <td>1.000000</td>\n",
       "      <td>1.000000</td>\n",
       "      <td>0.000000e+00</td>\n",
       "      <td>0.000000e+00</td>\n",
       "      <td>1.000000</td>\n",
       "    </tr>\n",
       "    <tr>\n",
       "      <th>25%</th>\n",
       "      <td>16170.500000</td>\n",
       "      <td>24.000000</td>\n",
       "      <td>2.000000e+04</td>\n",
       "      <td>2.456400e+04</td>\n",
       "      <td>40.000000</td>\n",
       "    </tr>\n",
       "    <tr>\n",
       "      <th>50%</th>\n",
       "      <td>32281.500000</td>\n",
       "      <td>29.000000</td>\n",
       "      <td>6.250000e+04</td>\n",
       "      <td>5.395700e+04</td>\n",
       "      <td>40.000000</td>\n",
       "    </tr>\n",
       "    <tr>\n",
       "      <th>75%</th>\n",
       "      <td>49160.250000</td>\n",
       "      <td>35.000000</td>\n",
       "      <td>1.250000e+05</td>\n",
       "      <td>9.500000e+04</td>\n",
       "      <td>43.000000</td>\n",
       "    </tr>\n",
       "    <tr>\n",
       "      <th>max</th>\n",
       "      <td>65639.000000</td>\n",
       "      <td>60.000000</td>\n",
       "      <td>1.111111e+247</td>\n",
       "      <td>2.000000e+06</td>\n",
       "      <td>105.000000</td>\n",
       "    </tr>\n",
       "  </tbody>\n",
       "</table>\n",
       "</div>"
      ],
      "text/plain": [
       "         Respondent           Age      CompTotal  ConvertedComp   WorkWeekHrs\n",
       "count  63768.000000  44789.000000   3.443200e+04   3.436600e+04  40674.000000\n",
       "mean   32590.010695     30.409342  3.226972e+242   1.033958e+05     39.949089\n",
       "std    18960.909599      8.692711            inf   2.265648e+05     10.343277\n",
       "min        1.000000      1.000000   0.000000e+00   0.000000e+00      1.000000\n",
       "25%    16170.500000     24.000000   2.000000e+04   2.456400e+04     40.000000\n",
       "50%    32281.500000     29.000000   6.250000e+04   5.395700e+04     40.000000\n",
       "75%    49160.250000     35.000000   1.250000e+05   9.500000e+04     43.000000\n",
       "max    65639.000000     60.000000  1.111111e+247   2.000000e+06    105.000000"
      ]
     },
     "execution_count": 10,
     "metadata": {},
     "output_type": "execute_result"
    }
   ],
   "source": [
    "newdf.describe()"
   ]
  },
  {
   "cell_type": "code",
   "execution_count": 11,
   "id": "252a8834",
   "metadata": {},
   "outputs": [
    {
     "data": {
      "text/plain": [
       "Respondent                0\n",
       "MainBranch              295\n",
       "Hobbyist                 45\n",
       "Age                   18979\n",
       "Age1stCode             6557\n",
       "                      ...  \n",
       "WebframeWorkedWith    21834\n",
       "WelcomeChange         11709\n",
       "WorkWeekHrs           23094\n",
       "YearsCode              6773\n",
       "YearsCodePro          17940\n",
       "Length: 61, dtype: int64"
      ]
     },
     "execution_count": 11,
     "metadata": {},
     "output_type": "execute_result"
    }
   ],
   "source": [
    "newdf.isnull().sum()  #checking null values in dataset"
   ]
  },
  {
   "cell_type": "code",
   "execution_count": 12,
   "id": "4433f287",
   "metadata": {},
   "outputs": [
    {
     "data": {
      "text/plain": [
       "HTML/CSS;JavaScript;PHP;SQL                                                         1061\n",
       "HTML/CSS;JavaScript                                                                  895\n",
       "C#;HTML/CSS;JavaScript;SQL                                                           846\n",
       "C#;HTML/CSS;JavaScript;SQL;TypeScript                                                745\n",
       "HTML/CSS;JavaScript;TypeScript                                                       694\n",
       "                                                                                    ... \n",
       "Bash/Shell/PowerShell;HTML/CSS;JavaScript;Objective-C;SQL;Swift;TypeScript             1\n",
       "C;HTML/CSS;Objective-C;Swift                                                           1\n",
       "C#;C++;HTML/CSS;Python;SQL;TypeScript                                                  1\n",
       "Java;JavaScript;Kotlin;Objective-C;Perl;Python;Ruby;SQL;Swift                          1\n",
       "Bash/Shell/PowerShell;C;C#;C++;HTML/CSS;Java;JavaScript;Objective-C;Python;Swift       1\n",
       "Name: LanguageWorkedWith, Length: 14114, dtype: int64"
      ]
     },
     "execution_count": 12,
     "metadata": {},
     "output_type": "execute_result"
    }
   ],
   "source": [
    "#checking programming languages worked with to gain more information\n",
    "newdf.LanguageWorkedWith.value_counts()"
   ]
  },
  {
   "cell_type": "code",
   "execution_count": 33,
   "id": "4411cce3",
   "metadata": {},
   "outputs": [
    {
     "data": {
      "text/plain": [
       "United States     12469\n",
       "India              8403\n",
       "United Kingdom     3896\n",
       "Germany            3890\n",
       "Canada             2191\n",
       "France             1898\n",
       "Name: Country, dtype: int64"
      ]
     },
     "execution_count": 33,
     "metadata": {},
     "output_type": "execute_result"
    }
   ],
   "source": [
    " #checking the countries from which most of the developers participated in the survey\n",
    "country_dist= df['Country'].value_counts().head(6)\n",
    "\n",
    "country_dist\n"
   ]
  },
  {
   "cell_type": "code",
   "execution_count": 14,
   "id": "6cfb085b",
   "metadata": {},
   "outputs": [
    {
     "data": {
      "text/plain": [
       "13466"
      ]
     },
     "execution_count": 14,
     "metadata": {},
     "output_type": "execute_result"
    }
   ],
   "source": [
    "#seeing formal education of developers\n",
    "\n",
    "\n",
    "df['UndergradMajor'].isnull().sum()"
   ]
  },
  {
   "cell_type": "code",
   "execution_count": 15,
   "id": "c33ee20f",
   "metadata": {},
   "outputs": [
    {
     "data": {
      "text/plain": [
       "Computer science, computer engineering, or software engineering                   61.931562\n",
       "Another engineering discipline (such as civil, electrical, mechanical, etc.)       9.322483\n",
       "Information systems, information technology, or system administration              7.983136\n",
       "A natural science (such as biology, chemistry, physics, etc.)                      4.323953\n",
       "Mathematics or statistics                                                          3.625846\n",
       "Web development or web design                                                      3.508187\n",
       "A business discipline (such as accounting, finance, marketing, etc.)               2.696343\n",
       "A humanities discipline (such as literature, history, philosophy, etc.)            1.974703\n",
       "A social science (such as anthropology, psychology, political science, etc.)       1.829591\n",
       "Fine arts or performing arts (such as graphic design, music, studio art, etc.)     1.421708\n",
       "I never declared a major                                                           0.888322\n",
       "A health science (such as nursing, pharmacy, radiology, etc.)                      0.494166\n",
       "Name: UndergradMajor, dtype: float64"
      ]
     },
     "execution_count": 15,
     "metadata": {},
     "output_type": "execute_result"
    }
   ],
   "source": [
    "edu_cnts= df['UndergradMajor'].dropna().value_counts()\n",
    "edu_cnts/edu_cnts.sum() * 100"
   ]
  },
  {
   "cell_type": "raw",
   "id": "0abdddd2",
   "metadata": {},
   "source": [
    "we can see that 61% of the developers have computer science/computer engg/software engg as a degree. Also, Some developers have varied degrees in their graduation."
   ]
  },
  {
   "cell_type": "code",
   "execution_count": 71,
   "id": "e33cd966",
   "metadata": {},
   "outputs": [
    {
     "data": {
      "text/plain": [
       "STEM                                39372\n",
       "Humanities and social discipline     1686\n",
       "Business discipline                  1144\n",
       "Fine arts or performing arts          624\n",
       "I never declared a major              377\n",
       "Health science                        224\n",
       "Name: UndergradMajor, dtype: int64"
      ]
     },
     "execution_count": 71,
     "metadata": {},
     "output_type": "execute_result"
    }
   ],
   "source": [
    "newdf=newdf.dropna(subset=['UndergradMajor'])\n",
    "\n",
    "#update the values of undergrad major\n",
    "\n",
    "\n",
    "newdf.loc[newdf['UndergradMajor'].str.contains(\"humanities\"), 'UndergradMajor'] = 'Humanities and social discipline'\n",
    "\n",
    "newdf.loc[newdf['UndergradMajor'].str.contains(\"business\"), 'UndergradMajor'] = 'Business discipline'\n",
    "newdf.loc[newdf['UndergradMajor'].str.contains(\"Social\"), 'UndergradMajor'] = 'Humanities and social discipline'\n",
    "newdf.loc[newdf['UndergradMajor'].str.contains(\"social\"), 'UndergradMajor'] = 'Humanities and social discipline'\n",
    "\n",
    "newdf.loc[newdf['UndergradMajor'].str.contains(\"health\"), 'UndergradMajor'] = 'Health science'\n",
    "newdf.loc[newdf['UndergradMajor'].str.contains('Mathematics' ), 'UndergradMajor'] = 'STEM'\n",
    "newdf.loc[newdf['UndergradMajor'].str.contains('technology'), 'UndergradMajor'] = 'STEM'\n",
    "newdf.loc[newdf['UndergradMajor'].str.contains('natural' ), 'UndergradMajor'] = 'STEM'\n",
    "newdf.loc[newdf['UndergradMajor'].str.contains('engineering' ), 'UndergradMajor'] = 'STEM'\n",
    "newdf.loc[newdf['UndergradMajor'].str.contains('development'), 'UndergradMajor'] = 'STEM'\n",
    "\n",
    "newdf.loc[newdf['UndergradMajor'].str.contains('systems'), 'UndergradMajor'] = 'STEM'\n",
    "newdf.loc[newdf['UndergradMajor'].str.contains('Computer'), 'UndergradMajor'] = 'STEM'\n",
    "\n",
    "newdf.loc[newdf['UndergradMajor'].str.contains('information'), 'UndergradMajor'] = 'STEM'\n",
    "newdf.loc[newdf['UndergradMajor'].str.contains('web'), 'UndergradMajor'] = 'STEM'\n",
    "newdf.loc[newdf['UndergradMajor'].str.contains('arts'), 'UndergradMajor'] = 'Fine arts or performing arts'\n",
    "newdf.loc[newdf['UndergradMajor'].str.contains('Psychology'), 'UndergradMajor'] = 'Health science'\n",
    "newdf.loc[newdf['UndergradMajor'].str.contains('Another engineering discipline'), 'UndergradMajor'] = 'Another engineering discipline'\n",
    "#test\n",
    "UndergradMajor= newdf['UndergradMajor'].value_counts()\n",
    "UndergradMajor"
   ]
  },
  {
   "cell_type": "code",
   "execution_count": 72,
   "id": "08dbbe79",
   "metadata": {},
   "outputs": [
    {
     "data": {
      "image/png": "[encoded data removed]",
      "text/plain": [
       "<Figure size 1440x1080 with 1 Axes>"
      ]
     },
     "metadata": {
      "needs_background": "light"
     },
     "output_type": "display_data"
    }
   ],
   "source": [
    "#plotting\n",
    "plt.figure(figsize=(20,15))\n",
    "sns.set_palette('Accent')\n",
    "sns.countplot(x=\"YearsCode\", hue=\"UndergradMajor\",data=newdf)\n",
    "plt.title('The Eduction Level for years coded');"
   ]
  },
  {
   "cell_type": "markdown",
   "id": "57329cb5",
   "metadata": {},
   "source": [
    "maximum number of developers have STEM as their undergrad major"
   ]
  },
  {
   "cell_type": "code",
   "execution_count": 16,
   "id": "b03b3414",
   "metadata": {},
   "outputs": [
    {
     "data": {
      "text/plain": [
       "jQuery                                                        2079\n",
       "React.js                                                      1917\n",
       "Spring                                                        1350\n",
       "Flask                                                         1074\n",
       "Django                                                         920\n",
       "                                                              ... \n",
       "Django;Express;Flask;Gatsby;React.js;Ruby on Rails;Spring        1\n",
       "Angular;Django;Express;Flask;jQuery;React.js;Spring;Vue.js       1\n",
       "Angular;Flask;Laravel;React.js                                   1\n",
       "Angular;ASP.NET;ASP.NET Core;Django;Express;jQuery;Vue.js        1\n",
       "ASP.NET;ASP.NET Core;Django;jQuery;Symfony;Vue.js                1\n",
       "Name: WebframeWorkedWith, Length: 3789, dtype: int64"
      ]
     },
     "execution_count": 16,
     "metadata": {},
     "output_type": "execute_result"
    }
   ],
   "source": [
    "frameworksworkedwith = df['WebframeWorkedWith'].value_counts()\n",
    "frameworksworkedwith"
   ]
  },
  {
   "cell_type": "markdown",
   "id": "2d858d91",
   "metadata": {},
   "source": [
    "maximum people have worked with jQuery, followed by React.js , Spring, Flask and Django"
   ]
  },
  {
   "cell_type": "code",
   "execution_count": 43,
   "id": "9f396e2e",
   "metadata": {},
   "outputs": [
    {
     "data": {
      "text/plain": [
       "HTML/CSS;JavaScript;PHP;SQL                                                         1073\n",
       "HTML/CSS;JavaScript                                                                  900\n",
       "C#;HTML/CSS;JavaScript;SQL                                                           856\n",
       "C#;HTML/CSS;JavaScript;SQL;TypeScript                                                754\n",
       "HTML/CSS;JavaScript;TypeScript                                                       697\n",
       "                                                                                    ... \n",
       "Bash/Shell/PowerShell;Go;Java;JavaScript;SQL                                           1\n",
       "C;C#;HTML/CSS;PHP;Python;SQL                                                           1\n",
       "Bash/Shell/PowerShell;C#;HTML/CSS;Java;JavaScript;Kotlin;R;SQL                         1\n",
       "Bash/Shell/PowerShell;C;C#;C++;Java;Ruby;SQL                                           1\n",
       "Bash/Shell/PowerShell;C;C#;C++;HTML/CSS;Java;JavaScript;Objective-C;Python;Swift       1\n",
       "Name: LanguageWorkedWith, Length: 14256, dtype: int64"
      ]
     },
     "execution_count": 43,
     "metadata": {},
     "output_type": "execute_result"
    }
   ],
   "source": [
    "LanguageWorkedWith=df['LanguageWorkedWith'].value_counts()\n",
    "LanguageWorkedWith"
   ]
  },
  {
   "cell_type": "markdown",
   "id": "d60024b1",
   "metadata": {},
   "source": [
    "maximum people have worked with HTML/CSS;JavaScript;PHP;SQL,\n",
    "\n",
    "\n",
    "followed by HTML/CSS;JavaScript\n",
    "\n",
    "\n",
    "followed by C#;HTML/CSS;JavaScript;SQL"
   ]
  },
  {
   "cell_type": "code",
   "execution_count": 41,
   "id": "b972daf0",
   "metadata": {},
   "outputs": [
    {
     "data": {
      "text/plain": [
       "Very satisfied                        14611\n",
       "Slightly satisfied                    13930\n",
       "Slightly dissatisfied                  7124\n",
       "Neither satisfied nor dissatisfied     5783\n",
       "Very dissatisfied                      3746\n",
       "Name: JobSat, dtype: int64"
      ]
     },
     "execution_count": 41,
     "metadata": {},
     "output_type": "execute_result"
    }
   ],
   "source": [
    "#seeing job satisfaction levels of developers\n",
    "df['JobSat'].value_counts()"
   ]
  },
  {
   "cell_type": "code",
   "execution_count": null,
   "id": "36140f45",
   "metadata": {},
   "outputs": [],
   "source": []
  },
  {
   "cell_type": "code",
   "execution_count": 117,
   "id": "ed612748",
   "metadata": {},
   "outputs": [
    {
     "data": {
      "text/plain": [
       "United States         12469\n",
       "India                  8403\n",
       "United Kingdom         3896\n",
       "Germany                3890\n",
       "Canada                 2191\n",
       "France                 1898\n",
       "Brazil                 1818\n",
       "Netherlands            1343\n",
       "Poland                 1278\n",
       "Australia              1208\n",
       "Spain                  1161\n",
       "Italy                  1117\n",
       "Russian Federation     1092\n",
       "Sweden                  886\n",
       "Pakistan                809\n",
       "Turkey                  777\n",
       "Israel                  653\n",
       "Switzerland             629\n",
       "Bangladesh              609\n",
       "Romania                 604\n",
       "Nigeria                 593\n",
       "Mexico                  540\n",
       "Austria                 539\n",
       "Ukraine                 539\n",
       "Czech Republic          500\n",
       "Indonesia               499\n",
       "South Africa            494\n",
       "Iran                    491\n",
       "Belgium                 459\n",
       "Ireland                 444\n",
       "Philippines             405\n",
       "Denmark                 397\n",
       "Argentina               395\n",
       "Greece                  390\n",
       "Portugal                388\n",
       "Norway                  384\n",
       "Hungary                 371\n",
       "China                   371\n",
       "Viet Nam                364\n",
       "New Zealand             353\n",
       "Finland                 349\n",
       "Bulgaria                323\n",
       "Serbia                  306\n",
       "Japan                   297\n",
       "Sri Lanka               295\n",
       "Colombia                285\n",
       "Egypt                   281\n",
       "Kenya                   271\n",
       "Nepal                   242\n",
       "Malaysia                231\n",
       "Name: Country, dtype: int64"
      ]
     },
     "execution_count": 117,
     "metadata": {},
     "output_type": "execute_result"
    }
   ],
   "source": [
    "#seeing maximum countries to where developers belong\n",
    "tempdf=df['Country'].dropna().value_counts().head(50)\n",
    "\n",
    "tempdf\n"
   ]
  },
  {
   "cell_type": "code",
   "execution_count": 38,
   "id": "47b19d11",
   "metadata": {},
   "outputs": [
    {
     "data": {
      "text/plain": [
       "array(['Yes', 'No', nan], dtype=object)"
      ]
     },
     "execution_count": 38,
     "metadata": {},
     "output_type": "execute_result"
    }
   ],
   "source": [
    "#unique values of hobbyist\n",
    "newdf['Hobbyist'].unique()"
   ]
  },
  {
   "cell_type": "code",
   "execution_count": 39,
   "id": "b579b71d",
   "metadata": {},
   "outputs": [
    {
     "data": {
      "text/plain": [
       "<AxesSubplot:>"
      ]
     },
     "execution_count": 39,
     "metadata": {},
     "output_type": "execute_result"
    },
    {
     "data": {
      "image/png": "[encoded data removed]",
      "text/plain": [
       "<Figure size 432x288 with 1 Axes>"
      ]
     },
     "metadata": {
      "needs_background": "light"
     },
     "output_type": "display_data"
    }
   ],
   "source": [
    "# the distribution of ConvertedComp\n",
    "newdf['ConvertedComp'].hist()"
   ]
  },
  {
   "cell_type": "code",
   "execution_count": 44,
   "id": "77244d14",
   "metadata": {},
   "outputs": [
    {
     "data": {
      "text/plain": [
       "array(['36', '7', '4', '15', '6', '17', '8', '10', '35', '5', '37', '19',\n",
       "       '9', '22', '30', '23', '20', '2', 'Less than 1 year', '3', '13',\n",
       "       '25', '16', '43', '11', '38', '33', nan, '24', '21', '12', '40',\n",
       "       '27', '14', '18', '28', '32', '44', '26', '31', '34', '29', '1',\n",
       "       '42', '39', '41', '45', '46', '47', '49', 'More than 50 years',\n",
       "       '50', '48'], dtype=object)"
      ]
     },
     "execution_count": 44,
     "metadata": {},
     "output_type": "execute_result"
    }
   ],
   "source": [
    "\n",
    "\n",
    "#uniques values of YearsCode\n",
    "newdf['YearsCode'].unique()"
   ]
  },
  {
   "cell_type": "code",
   "execution_count": 45,
   "id": "a541391b",
   "metadata": {},
   "outputs": [
    {
     "data": {
      "text/plain": [
       "array(['27', '4', nan, '8', '13', '2', '7', '20', '1', '23', '3', '12',\n",
       "       '17', '18', '10', '14', '29', '6', '28', '9', '15', '11', '16',\n",
       "       '25', 'Less than 1 year', '5', '21', '19', '35', '24', '32', '22',\n",
       "       '30', '26', '40', '33', '31', '34', 'More than 50 years', '36',\n",
       "       '39', '38', '37', '45', '42', '44', '43', '41', '46', '48', '47',\n",
       "       '50'], dtype=object)"
      ]
     },
     "execution_count": 45,
     "metadata": {},
     "output_type": "execute_result"
    }
   ],
   "source": [
    "#uniques values of YearsCodePro\n",
    "newdf['YearsCodePro'].unique()\n"
   ]
  },
  {
   "cell_type": "code",
   "execution_count": 46,
   "id": "fcb655cd",
   "metadata": {},
   "outputs": [
    {
     "data": {
      "text/plain": [
       "array(['27', '4', 'nan', '8', '13', '2', '7', '20', '1', '23', '3', '12',\n",
       "       '17', '18', '10', '14', '29', '6', '28', '9', '15', '11', '16',\n",
       "       '25', 'Less', '5', '21', '19', '35', '24', '32', '22', '30', '26',\n",
       "       '40', '33', '31', '34', 'More', '36', '39', '38', '37', '45', '42',\n",
       "       '44', '43', '41', '46', '48', '47', '50'], dtype=object)"
      ]
     },
     "execution_count": 46,
     "metadata": {},
     "output_type": "execute_result"
    }
   ],
   "source": [
    "#change these values from a range to single values\n",
    "newdf['YearsCodePro']=newdf['YearsCodePro'].astype(str)\n",
    "newdf['YearsCodePro'] =newdf['YearsCodePro'].str.split(' ').str[0]\n",
    "newdf['YearsCodePro'].unique()\n",
    "\n"
   ]
  },
  {
   "cell_type": "code",
   "execution_count": 47,
   "id": "63aae3d0",
   "metadata": {},
   "outputs": [
    {
     "data": {
      "text/plain": [
       "array(['36', '7', '4', '15', '6', '17', '8', '10', '35', '5', '37', '19',\n",
       "       '9', '22', '30', '23', '20', '2', 'Less', '3', '13', '25', '16',\n",
       "       '43', '11', '38', '33', 'nan', '24', '21', '12', '40', '27', '14',\n",
       "       '18', '28', '32', '44', '26', '31', '34', '29', '1', '42', '39',\n",
       "       '41', '45', '46', '47', '49', 'More', '50', '48'], dtype=object)"
      ]
     },
     "execution_count": 47,
     "metadata": {},
     "output_type": "execute_result"
    }
   ],
   "source": [
    "#change these values from a range to single values\n",
    "newdf['YearsCode']=newdf['YearsCode'].astype(str)\n",
    "newdf['YearsCode'] =newdf['YearsCode'].str.split(' ').str[0]\n",
    "newdf['YearsCode'].unique()"
   ]
  },
  {
   "cell_type": "code",
   "execution_count": 73,
   "id": "2a01a2a1",
   "metadata": {},
   "outputs": [
    {
     "data": {
      "image/png": "[encoded data removed]",
      "text/plain": [
       "<Figure size 864x432 with 2 Axes>"
      ]
     },
     "metadata": {
      "needs_background": "light"
     },
     "output_type": "display_data"
    }
   ],
   "source": [
    "#Years of Coding as Professional vs Years of Coding\n",
    "#conv to numeric valuse\n",
    "newdf['YearsCodePro']= pd.to_numeric(newdf[\"YearsCodePro\"], errors='coerce')\n",
    "newdf['YearsCode']= pd.to_numeric(newdf[\"YearsCode\"], errors='coerce')\n",
    "#plot\n",
    "plt.figure(figsize = [12, 6])\n",
    "plt.subplot(1, 2, 1)\n",
    "newdf['YearsCodePro'].hist()\n",
    "plt.title('Distribution of Years of coding as Professional')\n",
    "plt.ylabel('Counts')\n",
    "#plot\n",
    "plt.subplot(1, 2, 2)\n",
    "newdf['YearsCode'].hist()\n",
    "plt.title('Distribution of Years of coding')\n",
    "plt.ylabel('Counts');"
   ]
  },
  {
   "cell_type": "code",
   "execution_count": 48,
   "id": "0c8c7745",
   "metadata": {},
   "outputs": [
    {
     "data": {
      "text/plain": [
       "count    3.436600e+04\n",
       "mean     1.033958e+05\n",
       "std      2.265648e+05\n",
       "min      0.000000e+00\n",
       "25%      2.456400e+04\n",
       "50%      5.395700e+04\n",
       "75%      9.500000e+04\n",
       "max      2.000000e+06\n",
       "Name: ConvertedComp, dtype: float64"
      ]
     },
     "execution_count": 48,
     "metadata": {},
     "output_type": "execute_result"
    }
   ],
   "source": [
    "#description of ConvertedComp i.e. salary\n",
    "newdf['ConvertedComp'].describe()"
   ]
  },
  {
   "cell_type": "code",
   "execution_count": 74,
   "id": "e2054e7d",
   "metadata": {},
   "outputs": [
    {
     "data": {
      "image/png": "[encoded data removed]",
      "text/plain": [
       "<Figure size 720x432 with 1 Axes>"
      ]
     },
     "metadata": {
      "needs_background": "light"
     },
     "output_type": "display_data"
    }
   ],
   "source": [
    "# plotting Salary\n",
    "plt.figure(figsize = [10, 6])\n",
    "newdf['ConvertedComp'].hist()\n",
    "plt.ylabel('Salary')\n",
    "plt.title('Distribution of salary');"
   ]
  },
  {
   "cell_type": "code",
   "execution_count": 50,
   "id": "335f4a0a",
   "metadata": {},
   "outputs": [
    {
     "data": {
      "text/plain": [
       "7"
      ]
     },
     "execution_count": 50,
     "metadata": {},
     "output_type": "execute_result"
    }
   ],
   "source": [
    "# Gender\n",
    "newdf['Gender'].nunique()\n"
   ]
  },
  {
   "cell_type": "code",
   "execution_count": 51,
   "id": "40b1ed40",
   "metadata": {},
   "outputs": [
    {
     "data": {
      "text/plain": [
       "Man                                                  45527\n",
       "Woman                                                 4001\n",
       "Non-binary, genderqueer, or gender non-conforming      380\n",
       "Name: Gender, dtype: int64"
      ]
     },
     "execution_count": 51,
     "metadata": {},
     "output_type": "execute_result"
    }
   ],
   "source": [
    "newdf['Gender'] =newdf['Gender'].str.split(';').str[0]\n",
    "newdf['Gender'].value_counts()"
   ]
  },
  {
   "cell_type": "code",
   "execution_count": 68,
   "id": "4fcb525a",
   "metadata": {},
   "outputs": [
    {
     "data": {
      "text/plain": [
       "<Figure size 2160x720 with 0 Axes>"
      ]
     },
     "execution_count": 68,
     "metadata": {},
     "output_type": "execute_result"
    },
    {
     "data": {
      "image/png": "[encoded data removed]",
      "text/plain": [
       "<Figure size 432x288 with 1 Axes>"
      ]
     },
     "metadata": {
      "needs_background": "light"
     },
     "output_type": "display_data"
    },
    {
     "data": {
      "text/plain": [
       "<Figure size 2160x720 with 0 Axes>"
      ]
     },
     "metadata": {},
     "output_type": "display_data"
    }
   ],
   "source": [
    "#plot\n",
    "\n",
    "fig, ax = plt.subplots()\n",
    "\n",
    "sns.set_palette('Accent')\n",
    "sns.countplot(x=\"YearsCode\", hue=\"Gender\",data=newdf)\n",
    "plt.title('The gender across years');\n",
    "plt.figure(figsize=(30,10))"
   ]
  },
  {
   "cell_type": "markdown",
   "id": "43cb375d",
   "metadata": {},
   "source": [
    "male predominanace is clearly visible over years coded"
   ]
  },
  {
   "cell_type": "code",
   "execution_count": 69,
   "id": "a91d6d18",
   "metadata": {},
   "outputs": [
    {
     "data": {
      "text/plain": [
       "Employed full-time                                      35519\n",
       "Student                                                  6071\n",
       "Independent contractor, freelancer, or self-employed     4356\n",
       "Not employed, but looking for work                       1821\n",
       "Employed part-time                                       1668\n",
       "Not employed, and not looking for work                    222\n",
       "Retired                                                    59\n",
       "Name: Employment, dtype: int64"
      ]
     },
     "execution_count": 69,
     "metadata": {},
     "output_type": "execute_result"
    }
   ],
   "source": [
    "newdf['Employment'].value_counts()"
   ]
  },
  {
   "cell_type": "code",
   "execution_count": 81,
   "id": "7483dccf",
   "metadata": {},
   "outputs": [
    {
     "name": "stderr",
     "output_type": "stream",
     "text": [
      "C:\\Users\\user\\New folder\\lib\\site-packages\\seaborn\\_decorators.py:36: FutureWarning: Pass the following variables as keyword args: x, y. From version 0.12, the only valid positional argument will be `data`, and passing other arguments without an explicit keyword will result in an error or misinterpretation.\n",
      "  warnings.warn(\n"
     ]
    },
    {
     "data": {
      "text/plain": [
       "Text(0.5, 0, 'Counts')"
      ]
     },
     "execution_count": 81,
     "metadata": {},
     "output_type": "execute_result"
    },
    {
     "data": {
      "image/png": "[encoded data removed]",
      "text/plain": [
       "<Figure size 432x288 with 1 Axes>"
      ]
     },
     "metadata": {
      "needs_background": "light"
     },
     "output_type": "display_data"
    }
   ],
   "source": [
    "# Ethnicity\n",
    "#Top 10 \n",
    "Ethnic=newdf['Ethnicity'].value_counts().head(5)\n",
    "Ethnic\n",
    "#plot \n",
    "sns.barplot(Ethnic, Ethnic.index,color ='yellow')\n",
    "plt.title('Top 10 Ethnicity on Stack overflow')\n",
    "plt.xlabel('Counts')\n"
   ]
  },
  {
   "cell_type": "markdown",
   "id": "a681a41e",
   "metadata": {},
   "source": [
    "maximum people are from white or european descent"
   ]
  },
  {
   "cell_type": "code",
   "execution_count": 83,
   "id": "b6bc46e5",
   "metadata": {},
   "outputs": [
    {
     "data": {
      "image/png": "[encoded data removed]",
      "text/plain": [
       "<Figure size 864x576 with 1 Axes>"
      ]
     },
     "metadata": {
      "needs_background": "light"
     },
     "output_type": "display_data"
    }
   ],
   "source": [
    "#plot\n",
    "fig, ax = plt.subplots()\n",
    "fig.set_size_inches(12, 8)\n",
    "sns.set_palette('Accent')\n",
    "sns.countplot(x=\"YearsCodePro\", hue=\"JobSat\",data=newdf)\n",
    "plt.title('The Job Satisfaction across years coded as a pro');"
   ]
  },
  {
   "cell_type": "markdown",
   "id": "5409c8b3",
   "metadata": {},
   "source": [
    "we see the satisfaction level decreasing as the number of years coded as a pro increases"
   ]
  },
  {
   "cell_type": "code",
   "execution_count": 90,
   "id": "654940a5",
   "metadata": {},
   "outputs": [
    {
     "data": {
      "text/html": [
       "<div>\n",
       "<style scoped>\n",
       "    .dataframe tbody tr th:only-of-type {\n",
       "        vertical-align: middle;\n",
       "    }\n",
       "\n",
       "    .dataframe tbody tr th {\n",
       "        vertical-align: top;\n",
       "    }\n",
       "\n",
       "    .dataframe thead th {\n",
       "        text-align: right;\n",
       "    }\n",
       "</style>\n",
       "<table border=\"1\" class=\"dataframe\">\n",
       "  <thead>\n",
       "    <tr style=\"text-align: right;\">\n",
       "      <th></th>\n",
       "      <th>Respondent</th>\n",
       "      <th>MainBranch</th>\n",
       "      <th>Hobbyist</th>\n",
       "      <th>Age</th>\n",
       "      <th>Age1stCode</th>\n",
       "      <th>CompFreq</th>\n",
       "      <th>CompTotal</th>\n",
       "      <th>ConvertedComp</th>\n",
       "      <th>Country</th>\n",
       "      <th>CurrencyDesc</th>\n",
       "      <th>...</th>\n",
       "      <th>SurveyEase</th>\n",
       "      <th>SurveyLength</th>\n",
       "      <th>Trans</th>\n",
       "      <th>UndergradMajor</th>\n",
       "      <th>WebframeDesireNextYear</th>\n",
       "      <th>WebframeWorkedWith</th>\n",
       "      <th>WelcomeChange</th>\n",
       "      <th>WorkWeekHrs</th>\n",
       "      <th>YearsCode</th>\n",
       "      <th>YearsCodePro</th>\n",
       "    </tr>\n",
       "  </thead>\n",
       "  <tbody>\n",
       "    <tr>\n",
       "      <th>50917</th>\n",
       "      <td>51971</td>\n",
       "      <td>I am a developer by profession</td>\n",
       "      <td>Yes</td>\n",
       "      <td>29.0</td>\n",
       "      <td>12</td>\n",
       "      <td>Yearly</td>\n",
       "      <td>95000.0</td>\n",
       "      <td>122796.0</td>\n",
       "      <td>United Kingdom</td>\n",
       "      <td>Pound sterling</td>\n",
       "      <td>...</td>\n",
       "      <td>Easy</td>\n",
       "      <td>Appropriate in length</td>\n",
       "      <td>No</td>\n",
       "      <td>STEM</td>\n",
       "      <td>React.js</td>\n",
       "      <td>React.js</td>\n",
       "      <td>Just as welcome now as I felt last year</td>\n",
       "      <td>40.0</td>\n",
       "      <td>17.0</td>\n",
       "      <td>5.0</td>\n",
       "    </tr>\n",
       "    <tr>\n",
       "      <th>10934</th>\n",
       "      <td>10969</td>\n",
       "      <td>I am a developer by profession</td>\n",
       "      <td>Yes</td>\n",
       "      <td>28.0</td>\n",
       "      <td>17</td>\n",
       "      <td>Yearly</td>\n",
       "      <td>1600000.0</td>\n",
       "      <td>22339.0</td>\n",
       "      <td>India</td>\n",
       "      <td>Indian rupee</td>\n",
       "      <td>...</td>\n",
       "      <td>Easy</td>\n",
       "      <td>Appropriate in length</td>\n",
       "      <td>No</td>\n",
       "      <td>STEM</td>\n",
       "      <td>Django;Flask</td>\n",
       "      <td>Django;Flask</td>\n",
       "      <td>A lot more welcome now than last year</td>\n",
       "      <td>50.0</td>\n",
       "      <td>10.0</td>\n",
       "      <td>6.0</td>\n",
       "    </tr>\n",
       "    <tr>\n",
       "      <th>47971</th>\n",
       "      <td>48973</td>\n",
       "      <td>I am a developer by profession</td>\n",
       "      <td>Yes</td>\n",
       "      <td>25.0</td>\n",
       "      <td>18</td>\n",
       "      <td>Yearly</td>\n",
       "      <td>31000.0</td>\n",
       "      <td>40070.0</td>\n",
       "      <td>United Kingdom</td>\n",
       "      <td>Pound sterling</td>\n",
       "      <td>...</td>\n",
       "      <td>Easy</td>\n",
       "      <td>Appropriate in length</td>\n",
       "      <td>No</td>\n",
       "      <td>STEM</td>\n",
       "      <td>Flask</td>\n",
       "      <td>Flask;Spring</td>\n",
       "      <td>Just as welcome now as I felt last year</td>\n",
       "      <td>37.0</td>\n",
       "      <td>7.0</td>\n",
       "      <td>4.0</td>\n",
       "    </tr>\n",
       "  </tbody>\n",
       "</table>\n",
       "<p>3 rows × 61 columns</p>\n",
       "</div>"
      ],
      "text/plain": [
       "       Respondent                      MainBranch Hobbyist   Age Age1stCode  \\\n",
       "50917       51971  I am a developer by profession      Yes  29.0         12   \n",
       "10934       10969  I am a developer by profession      Yes  28.0         17   \n",
       "47971       48973  I am a developer by profession      Yes  25.0         18   \n",
       "\n",
       "      CompFreq  CompTotal  ConvertedComp         Country    CurrencyDesc  ...  \\\n",
       "50917   Yearly    95000.0       122796.0  United Kingdom  Pound sterling  ...   \n",
       "10934   Yearly  1600000.0        22339.0           India    Indian rupee  ...   \n",
       "47971   Yearly    31000.0        40070.0  United Kingdom  Pound sterling  ...   \n",
       "\n",
       "      SurveyEase           SurveyLength Trans UndergradMajor  \\\n",
       "50917       Easy  Appropriate in length    No           STEM   \n",
       "10934       Easy  Appropriate in length    No           STEM   \n",
       "47971       Easy  Appropriate in length    No           STEM   \n",
       "\n",
       "      WebframeDesireNextYear WebframeWorkedWith  \\\n",
       "50917               React.js           React.js   \n",
       "10934           Django;Flask       Django;Flask   \n",
       "47971                  Flask       Flask;Spring   \n",
       "\n",
       "                                 WelcomeChange WorkWeekHrs YearsCode  \\\n",
       "50917  Just as welcome now as I felt last year        40.0      17.0   \n",
       "10934    A lot more welcome now than last year        50.0      10.0   \n",
       "47971  Just as welcome now as I felt last year        37.0       7.0   \n",
       "\n",
       "      YearsCodePro  \n",
       "50917          5.0  \n",
       "10934          6.0  \n",
       "47971          4.0  \n",
       "\n",
       "[3 rows x 61 columns]"
      ]
     },
     "execution_count": 90,
     "metadata": {},
     "output_type": "execute_result"
    }
   ],
   "source": [
    "#changes of salaries and job satisfaction for data scientists\n",
    "#filter data science data \n",
    "newdf.dropna(subset=['DevType'],inplace=True)\n",
    "newdf['DevType']\n",
    "df_datsci = newdf[newdf['DevType'].str.contains('Data scientist')]\n",
    "df_datsci.sample(3)"
   ]
  },
  {
   "cell_type": "code",
   "execution_count": 101,
   "id": "1d456fd8",
   "metadata": {},
   "outputs": [
    {
     "data": {
      "image/png": "[encoded data removed]",
      "text/plain": [
       "<Figure size 1080x720 with 1 Axes>"
      ]
     },
     "metadata": {
      "needs_background": "light"
     },
     "output_type": "display_data"
    }
   ],
   "source": [
    "#Average Salary for Data Scientists\n",
    "#distribution of salary \n",
    "plt.figure(figsize=(15,10))\n",
    "#fig, ax = plt.subplots()\n",
    "#fig.set_size_inches(12, 8)\n",
    "sns.boxplot(x=\"YearsCodePro\", y=\"ConvertedComp\", data=df_datsci,showfliers = False)\n",
    "plt.xlabel(' Years coded ')\n",
    "plt.ylabel(' Salary')\n",
    "plt.title('The distribution of data science developer salary');"
   ]
  },
  {
   "cell_type": "code",
   "execution_count": 130,
   "id": "adab98e6",
   "metadata": {},
   "outputs": [
    {
     "data": {
      "image/png": "[encoded data removed]",
      "text/plain": [
       "<Figure size 1080x720 with 2 Axes>"
      ]
     },
     "metadata": {
      "needs_background": "light"
     },
     "output_type": "display_data"
    }
   ],
   "source": [
    "\n",
    "# Plot the correlation heatmap\n",
    "plt.figure(figsize=(15,10))\n",
    "sns.heatmap(newdf.corr(), cmap=\"YlGnBu\", annot=True);\n",
    "\n"
   ]
  },
  {
   "cell_type": "markdown",
   "id": "0e9513f1",
   "metadata": {},
   "source": [
    "highly correlated features with 'years code pro' are-\n",
    "\n",
    "\n",
    "Age\n"
   ]
  },
  {
   "cell_type": "code",
   "execution_count": 145,
   "id": "78a5ff74",
   "metadata": {},
   "outputs": [
    {
     "name": "stderr",
     "output_type": "stream",
     "text": [
      "C:\\Users\\user\\New folder\\lib\\site-packages\\seaborn\\_decorators.py:36: FutureWarning: Pass the following variable as a keyword arg: x. From version 0.12, the only valid positional argument will be `data`, and passing other arguments without an explicit keyword will result in an error or misinterpretation.\n",
      "  warnings.warn(\n"
     ]
    },
    {
     "data": {
      "text/plain": [
       "Text(0.5, 1.0, 'How do the respondents feel about the survey ?')"
      ]
     },
     "execution_count": 145,
     "metadata": {},
     "output_type": "execute_result"
    },
    {
     "data": {
      "image/png": "[encoded data removed]",
      "text/plain": [
       "<Figure size 720x720 with 1 Axes>"
      ]
     },
     "metadata": {
      "needs_background": "light"
     },
     "output_type": "display_data"
    }
   ],
   "source": [
    "# how respondents feel about survey\n",
    "plt.figure(figsize=(10,10))\n",
    "g=sns.countplot(newdf['SurveyLength'],palette=sns.color_palette(palette=\"viridis\"))\n",
    "g.set_xlabel(\"Response\")\n",
    "g.set_ylabel(\"Count\")\n",
    "g.set_title(\"How do the respondents feel about the survey ?\")"
   ]
  },
  {
   "cell_type": "code",
   "execution_count": 146,
   "id": "8784d7e8",
   "metadata": {},
   "outputs": [
    {
     "data": {
      "text/plain": [
       "<AxesSubplot:>"
      ]
     },
     "execution_count": 146,
     "metadata": {},
     "output_type": "execute_result"
    },
    {
     "data": {
      "image/png": "[encoded data removed]",
      "text/plain": [
       "<Figure size 432x288 with 1 Axes>"
      ]
     },
     "metadata": {
      "needs_background": "light"
     },
     "output_type": "display_data"
    }
   ],
   "source": [
    "#seeing distribution of gender \n",
    "gender=newdf['Gender'].str.split(';')\n",
    "gend=[]\n",
    "for i in gender.dropna():\n",
    "    gend.extend(i)\n",
    "pd.Series(gend).value_counts().sort_values(ascending=True).plot.bar(width=0.9,color='green')"
   ]
  },
  {
   "cell_type": "markdown",
   "id": "1a4491d1",
   "metadata": {},
   "source": [
    "dataset is gender biased, with biasness towards males"
   ]
  },
  {
   "cell_type": "code",
   "execution_count": null,
   "id": "f69d678f",
   "metadata": {},
   "outputs": [],
   "source": []
  }
 ],
 "metadata": {
  "kernelspec": {
   "display_name": "Python 3 (ipykernel)",
   "language": "python",
   "name": "python3"
  },
  "language_info": {
   "codemirror_mode": {
    "name": "ipython",
    "version": 3
   },
   "file_extension": ".py",
   "mimetype": "text/x-python",
   "name": "python",
   "nbconvert_exporter": "python",
   "pygments_lexer": "ipython3",
   "version": "3.9.12"
  }
 },
 "nbformat": 4,
 "nbformat_minor": 5
}
